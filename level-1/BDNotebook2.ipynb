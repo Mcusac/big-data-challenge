{
  "nbformat": 4,
  "nbformat_minor": 0,
  "metadata": {
    "colab": {
      "provenance": [],
      "collapsed_sections": []
    },
    "kernelspec": {
      "name": "python3",
      "display_name": "Python 3"
    },
    "language_info": {
      "name": "python"
    }
  },
  "cells": [
    {
      "cell_type": "code",
      "execution_count": 11,
      "metadata": {
        "colab": {
          "base_uri": "https://localhost:8080/"
        },
        "id": "h-xXsKbs_4BX",
        "outputId": "e612afad-fa8d-45c0-d24b-8480a8ca6748"
      },
      "outputs": [
        {
          "output_type": "stream",
          "name": "stdout",
          "text": [
            "\r0% [Working]\r            \rHit:1 http://ppa.launchpad.net/c2d4u.team/c2d4u4.0+/ubuntu bionic InRelease\n",
            "\r0% [Connecting to archive.ubuntu.com (91.189.91.38)] [Connecting to security.ub\r0% [1 InRelease gpgv 15.9 kB] [Connecting to archive.ubuntu.com (91.189.91.38)]\r                                                                               \rHit:2 http://ppa.launchpad.net/cran/libgit2/ubuntu bionic InRelease\n",
            "\r0% [1 InRelease gpgv 15.9 kB] [Connecting to archive.ubuntu.com (91.189.91.38)]\r                                                                               \rHit:3 https://cloud.r-project.org/bin/linux/ubuntu bionic-cran40/ InRelease\n",
            "\r0% [1 InRelease gpgv 15.9 kB] [Connecting to archive.ubuntu.com (91.189.91.38)]\r                                                                               \rHit:4 http://ppa.launchpad.net/deadsnakes/ppa/ubuntu bionic InRelease\n",
            "\r0% [1 InRelease gpgv 15.9 kB] [Connecting to archive.ubuntu.com (91.189.91.38)]\r                                                                               \rHit:5 http://ppa.launchpad.net/graphics-drivers/ppa/ubuntu bionic InRelease\n",
            "\r0% [1 InRelease gpgv 15.9 kB] [Waiting for headers] [Waiting for headers] [Wait\r                                                                               \rHit:6 http://archive.ubuntu.com/ubuntu bionic InRelease\n",
            "Get:7 http://security.ubuntu.com/ubuntu bionic-security InRelease [88.7 kB]\n",
            "Get:8 http://archive.ubuntu.com/ubuntu bionic-updates InRelease [88.7 kB]\n",
            "Get:9 http://archive.ubuntu.com/ubuntu bionic-backports InRelease [74.6 kB]\n",
            "Ign:10 https://developer.download.nvidia.com/compute/machine-learning/repos/ubuntu1804/x86_64  InRelease\n",
            "Hit:11 https://developer.download.nvidia.com/compute/cuda/repos/ubuntu1804/x86_64  InRelease\n",
            "Hit:12 https://developer.download.nvidia.com/compute/machine-learning/repos/ubuntu1804/x86_64  Release\n",
            "Fetched 252 kB in 3s (99.5 kB/s)\n",
            "Reading package lists... Done\n"
          ]
        }
      ],
      "source": [
        "import os\n",
        "# Find the latest version of spark 3.0  from http://www.apache.org/dist/spark/ and enter as the spark version\n",
        "# For example:\n",
        "# spark_version = 'spark-3.0.3'\n",
        "spark_version = 'spark-3.1.3'\n",
        "os.environ['SPARK_VERSION']=spark_version\n",
        "\n",
        "# Install Spark and Java\n",
        "!apt-get update\n",
        "!apt-get install openjdk-8-jdk-headless -qq > /dev/null\n",
        "!wget -q http://www.apache.org/dist/spark/$SPARK_VERSION/$SPARK_VERSION-bin-hadoop2.7.tgz\n",
        "!tar xf $SPARK_VERSION-bin-hadoop2.7.tgz\n",
        "!pip install -q findspark\n",
        "\n",
        "# Set Environment Variables\n",
        "os.environ[\"JAVA_HOME\"] = \"/usr/lib/jvm/java-8-openjdk-amd64\"\n",
        "os.environ[\"SPARK_HOME\"] = f\"/content/{spark_version}-bin-hadoop2.7\"\n",
        "\n",
        "# Start a SparkSession\n",
        "import findspark\n",
        "findspark.init()"
      ]
    },
    {
      "cell_type": "code",
      "source": [
        "!wget https://jdbc.postgresql.org/download/postgresql-42.2.9.jar"
      ],
      "metadata": {
        "colab": {
          "base_uri": "https://localhost:8080/"
        },
        "id": "lcBAarwa_60E",
        "outputId": "76633462-4c6f-4bc1-85fd-a17ca13373a6"
      },
      "execution_count": 12,
      "outputs": [
        {
          "output_type": "stream",
          "name": "stdout",
          "text": [
            "--2022-08-31 18:58:51--  https://jdbc.postgresql.org/download/postgresql-42.2.9.jar\n",
            "Resolving jdbc.postgresql.org (jdbc.postgresql.org)... 72.32.157.228, 2001:4800:3e1:1::228\n",
            "Connecting to jdbc.postgresql.org (jdbc.postgresql.org)|72.32.157.228|:443... connected.\n",
            "HTTP request sent, awaiting response... 200 OK\n",
            "Length: 914037 (893K) [application/java-archive]\n",
            "Saving to: ‘postgresql-42.2.9.jar.1’\n",
            "\n",
            "postgresql-42.2.9.j 100%[===================>] 892.61K  1.66MB/s    in 0.5s    \n",
            "\n",
            "2022-08-31 18:58:52 (1.66 MB/s) - ‘postgresql-42.2.9.jar.1’ saved [914037/914037]\n",
            "\n"
          ]
        }
      ]
    },
    {
      "cell_type": "code",
      "source": [
        "from pyspark.sql import SparkSession\n",
        "spark = SparkSession.builder.appName(\"CloudETL\").config(\"spark.driver.extraClassPath\",\"/content/postgresql-42.2.9.jar\").getOrCreate()"
      ],
      "metadata": {
        "id": "NSNbyk7OALsc"
      },
      "execution_count": 13,
      "outputs": []
    },
    {
      "cell_type": "code",
      "source": [
        "# Read in data from S3 Buckets\n",
        "from pyspark import SparkFiles\n",
        "url=\"https://s3.amazonaws.com/amazon-reviews-pds/tsv/amazon_reviews_us_Software_v1_00.tsv.gz\"\n",
        "spark.sparkContext.addFile(url)\n",
        "user_data_df = spark.read.csv(SparkFiles.get(\"amazon_reviews_us_Software_v1_00.tsv.gz\"), sep=\"\\t\", header=True, inferSchema=True)\n",
        "\n",
        "# Show DataFrame\n",
        "user_data_df.show()"
      ],
      "metadata": {
        "colab": {
          "base_uri": "https://localhost:8080/"
        },
        "id": "qv5KnotMANAa",
        "outputId": "f957752c-6a98-4b12-d671-5fee477a0489"
      },
      "execution_count": 14,
      "outputs": [
        {
          "output_type": "stream",
          "name": "stdout",
          "text": [
            "+-----------+-----------+--------------+----------+--------------+--------------------+----------------+-----------+-------------+-----------+----+-----------------+--------------------+--------------------+-----------+\n",
            "|marketplace|customer_id|     review_id|product_id|product_parent|       product_title|product_category|star_rating|helpful_votes|total_votes|vine|verified_purchase|     review_headline|         review_body|review_date|\n",
            "+-----------+-----------+--------------+----------+--------------+--------------------+----------------+-----------+-------------+-----------+----+-----------------+--------------------+--------------------+-----------+\n",
            "|         US|   42605767|R3EFW2STIYIY0I|B00MUTIDKI|     248732228|McAfee 2015 Inter...|        Software|          1|            2|          2|   N|                Y|I was very disapp...|I was very disapp...| 2015-08-31|\n",
            "|         US|   51771800|R12NR0R5A9F7FT|B00EPACNUG|     531462352|Hallmark Card Stu...|        Software|          5|            0|          0|   N|                Y|          Five Stars|I had a little st...| 2015-08-31|\n",
            "|         US|   16053526|R1LSH74R9XAP59|B00164AZA4|     473982505| Search and Rescue 4|        Software|          2|            0|          1|   N|                Y|    Have windows 10?|Tried to download...| 2015-08-31|\n",
            "|         US|   15319481|R1QXUNTF76K7L6|B00E6LIEFM|     189774198|      Quickbooks Pro|        Software|          2|            0|          0|   N|                Y|Disc was corrupt,...|Disc was corrupt,...| 2015-08-31|\n",
            "|         US|    1441820|R2F7DR75PS8NKT|B00VWEBG06|     852470365|Windows 7 Profess...|        Software|          5|            0|          0|   N|                Y|          Five Stars|Just what I neede...| 2015-08-31|\n",
            "|         US|   37107850|R2C1DJSCC8UFS6|B00EP7AP7C|     279360628|Family Tree Maker...|        Software|          3|            0|          0|   N|                Y|         Three Stars|Didn't like havin...| 2015-08-31|\n",
            "|         US|     302120|R1AXGS1W4YFXMX|B00OW2PET4|     729971168|World of Farming:...|        Software|          1|            0|          2|   N|                Y|            One Star|it does not work ...| 2015-08-31|\n",
            "|         US|   20193077|R1XU1B93402SYJ|B00N4OLCRO|     776572654|Photoshop Element...|        Software|          1|            1|          1|   N|                Y|Can't load to my ...|I have tried for ...| 2015-08-31|\n",
            "|         US|   13106017|R2U432NB3OPVR0|B005CELN8W|     222071424|Phantom EFX WMS S...|        Software|          5|            0|          0|   N|                Y|          Five Stars|       love the game| 2015-08-31|\n",
            "|         US|   32587108|R3R6FIMIOQ5SP9|B005CELL1G|     168801430|PaperPort Profess...|        Software|          5|            0|          0|   N|                Y|Meets our small b...|Great software. A...| 2015-08-31|\n",
            "|         US|   32020017|R12TX6V09C9QNQ|B00H09BOXQ|     455502995|Windows 7 Profess...|        Software|          5|            0|          0|   N|                Y|          Five Stars|             Awesome| 2015-08-31|\n",
            "|         US|   13376158|R33UCII6YKUMKV|B00MCLGAAO|     652069521| QuickBooks Pro 2015|        Software|          3|            2|          2|   N|                Y|Nothing New in Th...|To start this rev...| 2015-08-31|\n",
            "|         US|   47098110| RZKDAB9TGO053|B00P6U8C5Y|     871602905|Block Financial H...|        Software|          1|            0|          0|   N|                Y|Missing key infor...|Some key provisio...| 2015-08-31|\n",
            "|         US|   24083274|R2EMN2EEDN73ZA|B00MA5TPN6|     299038085|Parallels Desktop...|        Software|          4|            0|          0|   N|                Y|Probably the best...|Probably the best...| 2015-08-31|\n",
            "|         US|   41137196| RU9LHN1NJDVOI|B000EQ868I|     534229510|Cosmi Print Perfe...|        Software|          5|            0|          0|   N|                Y|          Five Stars|I was pleased wit...| 2015-08-31|\n",
            "|         US|   18003829|R19910SO17BQUE|B00MYXTCMI|      42668324|TurboTax Business...|        Software|          5|            0|          0|   N|                Y|... what it is su...|This program does...| 2015-08-31|\n",
            "|         US|   14460749|R32N10BW8MH847|B008PIQXP0|     116724371|I.R.I.S. Readiris...|        Software|          4|            2|          4|   N|                Y|          Four Stars|Again it should h...| 2015-08-31|\n",
            "|         US|   12641855| R2DNM85DH7FGK|B00KAFOXXU|     471261945|Finale PrintMusic...|        Software|          5|            0|          2|   N|                Y|          Five Stars|               great| 2015-08-31|\n",
            "|         US|   13775565|R2G9RFFW051RWY|B00OKSOLE4|     694520847|Microsoft Office ...|        Software|          5|            0|          0|   N|                Y|          Five Stars|        Easy to use.| 2015-08-31|\n",
            "|         US|   31044774|R26CC1STPSUHBS|B01019T6O0|     510976915|Microsoft Windows...|        Software|          1|           27|         39|   N|                N|Do NOT take the \"...|Do NOT take the &...| 2015-08-31|\n",
            "+-----------+-----------+--------------+----------+--------------+--------------------+----------------+-----------+-------------+-----------+----+-----------------+--------------------+--------------------+-----------+\n",
            "only showing top 20 rows\n",
            "\n"
          ]
        }
      ]
    },
    {
      "cell_type": "code",
      "source": [
        "user_data_df.columns"
      ],
      "metadata": {
        "colab": {
          "base_uri": "https://localhost:8080/"
        },
        "id": "76SY-cN3D_kj",
        "outputId": "2217f5cf-7e87-461e-f543-77917bd7ad5d"
      },
      "execution_count": 15,
      "outputs": [
        {
          "output_type": "execute_result",
          "data": {
            "text/plain": [
              "['marketplace',\n",
              " 'customer_id',\n",
              " 'review_id',\n",
              " 'product_id',\n",
              " 'product_parent',\n",
              " 'product_title',\n",
              " 'product_category',\n",
              " 'star_rating',\n",
              " 'helpful_votes',\n",
              " 'total_votes',\n",
              " 'vine',\n",
              " 'verified_purchase',\n",
              " 'review_headline',\n",
              " 'review_body',\n",
              " 'review_date']"
            ]
          },
          "metadata": {},
          "execution_count": 15
        }
      ]
    },
    {
      "cell_type": "code",
      "source": [
        "user_data_df.count()"
      ],
      "metadata": {
        "colab": {
          "base_uri": "https://localhost:8080/"
        },
        "id": "Qs7LQtXV7UwA",
        "outputId": "6e0648cb-a0e2-47ca-94ef-f51d963a7524"
      },
      "execution_count": 16,
      "outputs": [
        {
          "output_type": "execute_result",
          "data": {
            "text/plain": [
              "341931"
            ]
          },
          "metadata": {},
          "execution_count": 16
        }
      ]
    },
    {
      "cell_type": "code",
      "source": [
        "review_id_table = user_data_df.select([\"review_id\", \"customer_id\", \"product_id\", \"product_parent\", \"review_date\"])"
      ],
      "metadata": {
        "id": "TSsEk54EAueH"
      },
      "execution_count": 17,
      "outputs": []
    },
    {
      "cell_type": "code",
      "source": [
        "products = user_data_df.select([\"product_id\", \"product_title\"])"
      ],
      "metadata": {
        "id": "IOJe22J_DMKx"
      },
      "execution_count": 18,
      "outputs": []
    },
    {
      "cell_type": "code",
      "source": [
        "customers_df = user_data_df.groupby(\"customer_id\").agg({\"customer_id\": \"count\"}).withColumnRenamed(\"count(customer_id)\", \"customer_count\")\n",
        "customers_df.show()"
      ],
      "metadata": {
        "colab": {
          "base_uri": "https://localhost:8080/"
        },
        "id": "RXSEBJ1y7WHz",
        "outputId": "a79068b7-b51b-4f3f-bf05-fdfbaeeb14fa"
      },
      "execution_count": 19,
      "outputs": [
        {
          "output_type": "stream",
          "name": "stdout",
          "text": [
            "+-----------+--------------+\n",
            "|customer_id|customer_count|\n",
            "+-----------+--------------+\n",
            "|   15634680|             1|\n",
            "|   44696507|             1|\n",
            "|   19901367|             1|\n",
            "|   11337682|             1|\n",
            "|   52021773|             1|\n",
            "|   29916198|             1|\n",
            "|   42030944|             1|\n",
            "|   52765209|             1|\n",
            "|   13519509|             2|\n",
            "|   39320350|             5|\n",
            "|   23249582|             1|\n",
            "|   46351928|             3|\n",
            "|   44179620|             1|\n",
            "|     637252|             1|\n",
            "|   34038793|             1|\n",
            "|   51136490|             1|\n",
            "|   49354815|             1|\n",
            "|     149761|             2|\n",
            "|   43333798|             1|\n",
            "|    4657027|             1|\n",
            "+-----------+--------------+\n",
            "only showing top 20 rows\n",
            "\n"
          ]
        }
      ]
    },
    {
      "cell_type": "code",
      "source": [
        "customers = customers_df.select([\"customer_id\", \"customer_count\"])"
      ],
      "metadata": {
        "id": "NEO4EfnDFFkf"
      },
      "execution_count": 20,
      "outputs": []
    },
    {
      "cell_type": "code",
      "source": [
        "vine_table = user_data_df.select([\"review_id\", \"star_rating\", \"helpful_votes\", \"total_votes\", \"vine\"])"
      ],
      "metadata": {
        "id": "8lsxnUAHE-iq"
      },
      "execution_count": 21,
      "outputs": []
    },
    {
      "cell_type": "code",
      "source": [],
      "metadata": {
        "id": "3iQFGghFTzil"
      },
      "execution_count": 21,
      "outputs": []
    }
  ]
}